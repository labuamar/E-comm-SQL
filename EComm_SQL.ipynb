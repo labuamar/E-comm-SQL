{
 "cells": [
  {
   "cell_type": "code",
   "execution_count": 28,
   "metadata": {},
   "outputs": [],
   "source": [
    "import psycopg2"
   ]
  },
  {
   "cell_type": "code",
   "execution_count": 29,
   "metadata": {},
   "outputs": [],
   "source": [
    "conn = psycopg2.connect(host = \"localhost\", database = \"postgres\",\n",
    "user = \"postgres\", password= \"postgres\", port=5455)\n",
    "cur = conn.cursor()"
   ]
  },
  {
   "cell_type": "code",
   "execution_count": 30,
   "metadata": {},
   "outputs": [],
   "source": [
    "by_gender = 'SELECT ecom_ship.\"Gender\",COUNT(ecom_ship.\"Gender\") AS \"Purchases\",AVG(\"Customer_rating\") AS \"Avg Rating\",AVG(\"Prior_purchases\") AS \"Avg past purchases\",AVG(\"Cost_of_the_Product\") AS \"Avg Cost\"FROM public.ecom_ship GROUP BY ecom_ship.\"Gender\";'"
   ]
  },
  {
   "cell_type": "code",
   "execution_count": 31,
   "metadata": {},
   "outputs": [
    {
     "data": {
      "text/plain": [
       "[('M',\n",
       "  5454,\n",
       "  Decimal('2.9944994499449945'),\n",
       "  Decimal('3.5531719838650532'),\n",
       "  Decimal('211.1543821048771544')),\n",
       " ('F',\n",
       "  5545,\n",
       "  Decimal('2.9866546438232642'),\n",
       "  Decimal('3.5817853922452660'),\n",
       "  Decimal('209.2550045085662759'))]"
      ]
     },
     "execution_count": 31,
     "metadata": {},
     "output_type": "execute_result"
    }
   ],
   "source": [
    "cur.execute(by_gender)\n",
    "cur.fetchall()"
   ]
  },
  {
   "cell_type": "code",
   "execution_count": 32,
   "metadata": {},
   "outputs": [],
   "source": [
    "by_block = 'SELECT \"Warehouse_block\" AS \"Warehouse Block\", COUNT(\"Arrived_late\") AS \"Total Deliveries\", COUNT(1) FILTER (WHERE \"Arrived_late\" = True) AS \"Arrived Late\", COUNT(1) FILTER (WHERE \"Arrived_late\" = True)::NUMERIC / COUNT(\"Arrived_late\") *100 AS \"Percentage Late\" FROM public.ecom_ship GROUP BY \"Warehouse_block\";'"
   ]
  },
  {
   "cell_type": "code",
   "execution_count": 33,
   "metadata": {},
   "outputs": [
    {
     "data": {
      "text/plain": [
       "[('F', 3666, 2194, Decimal('59.84724495362793235100')),\n",
       " ('D', 1834, 1096, Decimal('59.76008724100327153800')),\n",
       " ('A', 1833, 1075, Decimal('58.64702673213311511200')),\n",
       " ('C', 1833, 1094, Decimal('59.68357883251500272800')),\n",
       " ('B', 1833, 1104, Decimal('60.22913256955810147300'))]"
      ]
     },
     "execution_count": 33,
     "metadata": {},
     "output_type": "execute_result"
    }
   ],
   "source": [
    "cur.execute(by_block)\n",
    "cur.fetchall()"
   ]
  },
  {
   "cell_type": "code",
   "execution_count": 34,
   "metadata": {},
   "outputs": [],
   "source": [
    "by_import = 'SELECT \"Product_importance\" AS \"Product Importance\", COUNT(1) FILTER (WHERE \"Arrived_late\" = True)::NUMERIC / COUNT(\"Arrived_late\") *100 AS \"Percentage Late\" FROM public.ecom_ship GROUP BY \"Product_importance\";'"
   ]
  },
  {
   "cell_type": "code",
   "execution_count": 35,
   "metadata": {},
   "outputs": [
    {
     "data": {
      "text/plain": [
       "[('medium', Decimal('59.04501472444257467400')),\n",
       " ('high', Decimal('64.97890295358649789000')),\n",
       " ('low', Decimal('59.27883707759108929600'))]"
      ]
     },
     "execution_count": 35,
     "metadata": {},
     "output_type": "execute_result"
    }
   ],
   "source": [
    "cur.execute(by_import)\n",
    "cur.fetchall()"
   ]
  },
  {
   "cell_type": "code",
   "execution_count": 36,
   "metadata": {},
   "outputs": [],
   "source": [
    "by_ship = 'SELECT \"Mode_of_Shipment\" AS \"Shipment Mode\", COUNT(1) FILTER (WHERE \"Arrived_late\" = True)::NUMERIC / COUNT(\"Arrived_late\") *100 AS \"Percentage Late\" FROM public.ecom_ship GROUP BY \"Mode_of_Shipment\";'"
   ]
  },
  {
   "cell_type": "code",
   "execution_count": 37,
   "metadata": {},
   "outputs": [
    {
     "data": {
      "text/plain": [
       "[('Ship', Decimal('59.75609756097560975600')),\n",
       " ('Flight', Decimal('60.15756893640967923500')),\n",
       " ('Road', Decimal('58.80681818181818181800'))]"
      ]
     },
     "execution_count": 37,
     "metadata": {},
     "output_type": "execute_result"
    }
   ],
   "source": [
    "cur.execute(by_ship)\n",
    "cur.fetchall()"
   ]
  },
  {
   "cell_type": "code",
   "execution_count": 38,
   "metadata": {},
   "outputs": [],
   "source": [
    "by_rate = 'SELECT \"Customer_rating\" AS \"Rating\", COUNT(1) FILTER (WHERE \"Arrived_late\" = True)::NUMERIC / COUNT(\"Arrived_late\") *100 AS \"Percentage Late\" FROM public.ecom_ship GROUP BY \"Customer_rating\";'"
   ]
  },
  {
   "cell_type": "code",
   "execution_count": 39,
   "metadata": {},
   "outputs": [
    {
     "data": {
      "text/plain": [
       "[(1, Decimal('58.74720357941834451900')),\n",
       " (3, Decimal('60.60741402411790978100')),\n",
       " (5, Decimal('60.66328880700138185200')),\n",
       " (4, Decimal('59.52489721333942439500')),\n",
       " (2, Decimal('58.79907621247113164000'))]"
      ]
     },
     "execution_count": 39,
     "metadata": {},
     "output_type": "execute_result"
    }
   ],
   "source": [
    "cur.execute(by_rate)\n",
    "cur.fetchall()"
   ]
  },
  {
   "cell_type": "code",
   "execution_count": 40,
   "metadata": {},
   "outputs": [],
   "source": [
    "rate_late = 'SELECT \"Arrived_late\" AS \"Arrived Late\", AVG(\"Customer_rating\") AS \"Avg Rating\" FROM public.ecom_ship GROUP BY \"Arrived_late\";'"
   ]
  },
  {
   "cell_type": "code",
   "execution_count": 41,
   "metadata": {},
   "outputs": [
    {
     "data": {
      "text/plain": [
       "[(False, Decimal('2.9679891794409378')), (True, Decimal('3.0057900350449490'))]"
      ]
     },
     "execution_count": 41,
     "metadata": {},
     "output_type": "execute_result"
    }
   ],
   "source": [
    "cur.execute(rate_late)\n",
    "cur.fetchall()"
   ]
  },
  {
   "cell_type": "code",
   "execution_count": 42,
   "metadata": {},
   "outputs": [],
   "source": [
    "three_bin = 'SELECT \"Arrived_late\", COUNT(CASE WHEN \"Weight_in_gms\">= 1000 AND \"Weight_in_gms\" <3282 THEN 1 END) AS \"1000-3282\", COUNT(CASE WHEN \"Weight_in_gms\">= 3283 AND \"Weight_in_gms\" <5564 THEN 1 END) AS \"3283-5564\", COUNT(CASE WHEN \"Weight_in_gms\">= 5565 AND \"Weight_in_gms\" <7846 THEN 1 END) AS \"5565-7846\" FROM public.ecom_ship GROUP BY \"Arrived_late\";'"
   ]
  },
  {
   "cell_type": "code",
   "execution_count": 43,
   "metadata": {},
   "outputs": [
    {
     "data": {
      "text/plain": [
       "[(False, 1046, 2659, 730), (True, 3330, 2679, 552)]"
      ]
     },
     "execution_count": 43,
     "metadata": {},
     "output_type": "execute_result"
    }
   ],
   "source": [
    "cur.execute(three_bin)\n",
    "cur.fetchall()"
   ]
  },
  {
   "cell_type": "code",
   "execution_count": null,
   "metadata": {},
   "outputs": [],
   "source": [
    "five_bin = 'SELECT \"Arrived_late\", COUNT(CASE WHEN \"Weight_in_gms\">= 1000 AND \"Weight_in_gms\" <2369 THEN 1 END) AS \"1000-2369\", COUNT(CASE WHEN \"Weight_in_gms\">= 2370 AND \"Weight_in_gms\" <3739 THEN 1 END) AS \"2370-3739\", COUNT(CASE WHEN \"Weight_in_gms\">= 3740 AND \"Weight_in_gms\" <5108 THEN 1 END) AS \"3740-5108\", COUNT(CASE WHEN \"Weight_in_gms\">= 5109 AND \"Weight_in_gms\" <6477 THEN 1 END) AS \"5109-6477\", COUNT(CASE WHEN \"Weight_in_gms\">= 6478 AND \"Weight_in_gms\" <7846 THEN 1 END) AS \"6478-7846\" FROM public.ecom_ship GROUP BY \"Arrived_late\";'"
   ]
  },
  {
   "cell_type": "code",
   "execution_count": null,
   "metadata": {},
   "outputs": [],
   "source": [
    "cur.execute(five_bin)\n",
    "cur.fetchall()"
   ]
  },
  {
   "cell_type": "code",
   "execution_count": null,
   "metadata": {},
   "outputs": [],
   "source": [
    "conn.close()"
   ]
  },
  {
   "cell_type": "markdown",
   "metadata": {},
   "source": [
    "Summary: There exists a link between product weight and whether a delivery is made late or on-time. This leads to many questions that can not be answered using this dataset:\n",
    "\n",
    "Is there an internal processing issue with smaller items causing delays (smaller items falling off conveyer belt? Requiring frequent human intervention?) Are smaller and larger items delivered using different services or carriers?\n",
    "\n",
    "These questions are worth investigating."
   ]
  }
 ],
 "metadata": {
  "kernelspec": {
   "display_name": "Python 3.8.12 ('FDS-P1')",
   "language": "python",
   "name": "python3"
  },
  "language_info": {
   "codemirror_mode": {
    "name": "ipython",
    "version": 3
   },
   "file_extension": ".py",
   "mimetype": "text/x-python",
   "name": "python",
   "nbconvert_exporter": "python",
   "pygments_lexer": "ipython3",
   "version": "3.8.12"
  },
  "orig_nbformat": 4,
  "vscode": {
   "interpreter": {
    "hash": "6d7a88674648f7d2565d7aedea9eccf2689f8719903ef66e4603d5e28f6bda89"
   }
  }
 },
 "nbformat": 4,
 "nbformat_minor": 2
}
